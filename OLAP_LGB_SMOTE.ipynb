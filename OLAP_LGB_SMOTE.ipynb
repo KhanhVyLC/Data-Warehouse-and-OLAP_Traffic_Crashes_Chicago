{
 "cells": [
  {
   "cell_type": "markdown",
   "id": "2d5b8187-a5ca-4e7f-acbd-5d299e121606",
   "metadata": {},
   "source": [
    "#LGB"
   ]
  },
  {
   "cell_type": "code",
   "execution_count": 1,
   "id": "6714b0ec-0813-4f6a-82f2-89404bcd4654",
   "metadata": {},
   "outputs": [],
   "source": [
    "import pandas as pd \n",
    "import numpy as np\n",
    "import seaborn as sns\n",
    "import category_encoders as ce\n",
    "\n",
    "import matplotlib.pyplot as plt \n",
    "%matplotlib inline\n",
    "\n",
    "from sklearn.model_selection import train_test_split, GridSearchCV\n",
    "from sklearn.preprocessing import LabelEncoder\n",
    "from imblearn.over_sampling import SMOTE\n",
    "from lightgbm import LGBMClassifier\n",
    "from sklearn.metrics import (classification_report, accuracy_score, roc_auc_score,\n",
    "                             log_loss, matthews_corrcoef, balanced_accuracy_score)\n",
    "\n"
   ]
  },
  {
   "cell_type": "code",
   "execution_count": 2,
   "id": "25033326-c96e-42c7-a2b0-9e2805eeb7d0",
   "metadata": {},
   "outputs": [],
   "source": [
    "# Đọc file CSV\n",
    "df = pd.read_csv('Traffic_Crashes_-_Crashes.csv')"
   ]
  },
  {
   "cell_type": "code",
   "execution_count": 3,
   "id": "5ce30669-662f-4eff-95e4-9c22e83fcd35",
   "metadata": {},
   "outputs": [
    {
     "name": "stdout",
     "output_type": "stream",
     "text": [
      "Danh sách cột sau khi xóa:\n",
      "Index(['POSTED_SPEED_LIMIT', 'TRAFFIC_CONTROL_DEVICE', 'DEVICE_CONDITION',\n",
      "       'WEATHER_CONDITION', 'LIGHTING_CONDITION', 'FIRST_CRASH_TYPE',\n",
      "       'TRAFFICWAY_TYPE', 'ALIGNMENT', 'ROADWAY_SURFACE_COND', 'ROAD_DEFECT',\n",
      "       'CRASH_TYPE', 'DAMAGE', 'PRIM_CONTRIBUTORY_CAUSE', 'NUM_UNITS',\n",
      "       'CRASH_HOUR', 'CRASH_DAY_OF_WEEK', 'CRASH_MONTH'],\n",
      "      dtype='object')\n"
     ]
    }
   ],
   "source": [
    "# Danh sách các cột cần xóa\n",
    "columns_to_drop = [\n",
    "    \"CRASH_RECORD_ID\", \"CRASH_DATE_EST_I\",\"CRASH_DATE\", \"LANE_CNT\", \"REPORT_TYPE\",\n",
    "    \"INTERSECTION_RELATED_I\", \"NOT_RIGHT_OF_WAY_I\", \"HIT_AND_RUN_I\",\n",
    "    \"DATE_POLICE_NOTIFIED\", \"SEC_CONTRIBUTORY_CAUSE\", \"STREET_NO\",\n",
    "    \"STREET_DIRECTION\", \"STREET_NAME\", \"BEAT_OF_OCCURRENCE\",\n",
    "    \"PHOTOS_TAKEN_I\", \"STATEMENTS_TAKEN_I\", \"DOORING_I\", \"WORK_ZONE_I\",\n",
    "    \"WORK_ZONE_TYPE\", \"WORKERS_PRESENT_I\", \"INJURIES_TOTAL\", \"INJURIES_FATAL\",\n",
    "    \"INJURIES_INCAPACITATING\", \"INJURIES_NON_INCAPACITATING\",\n",
    "    \"INJURIES_REPORTED_NOT_EVIDENT\", \"INJURIES_NO_INDICATION\", \"INJURIES_UNKNOWN\", \"LATITUDE\", \"LONGITUDE\", \"LOCATION\",\"MOST_SEVERE_INJURY\"\n",
    "]\n",
    "\n",
    "# Xóa các cột, bỏ qua các cột không tồn tại\n",
    "df = df.drop(columns=columns_to_drop, errors='ignore')\n",
    "\n",
    "# Kiểm tra kết quả\n",
    "print(\"Danh sách cột sau khi xóa:\")\n",
    "print(df.columns)"
   ]
  },
  {
   "cell_type": "code",
   "execution_count": 4,
   "id": "89f091cb-4c67-4a61-846e-35a9f0954a9f",
   "metadata": {},
   "outputs": [],
   "source": [
    "# Loại bỏ các hàng null\n",
    "df = df.dropna()"
   ]
  },
  {
   "cell_type": "code",
   "execution_count": 5,
   "id": "a9314990-aeb6-4b15-ba83-f497d6a2cb15",
   "metadata": {},
   "outputs": [
    {
     "name": "stdout",
     "output_type": "stream",
     "text": [
      "Fitting 3 folds for each of 108 candidates, totalling 324 fits\n",
      "[LightGBM] [Info] Number of positive: 408224, number of negative: 408224\n",
      "[LightGBM] [Info] Auto-choosing row-wise multi-threading, the overhead of testing was 0.054735 seconds.\n",
      "You can set `force_row_wise=true` to remove the overhead.\n",
      "And if memory is not enough, you can set `force_col_wise=true`.\n",
      "[LightGBM] [Info] Total Bins 242\n",
      "[LightGBM] [Info] Number of data points in the train set: 816448, number of used features: 16\n",
      "[LightGBM] [Info] [binary:BoostFromScore]: pavg=0.500000 -> initscore=0.000000\n",
      "\n",
      "Best Parameters from GridSearchCV:\n",
      "{'colsample_bytree': 1.0, 'learning_rate': 0.2, 'max_depth': 7, 'n_estimators': 300, 'subsample': 0.8}\n",
      "\n",
      "Classification Report (LightGBM):\n",
      "              precision    recall  f1-score   support\n",
      "\n",
      "           0       0.88      0.81      0.84    174953\n",
      "           1       0.57      0.69      0.63     63534\n",
      "\n",
      "    accuracy                           0.78    238487\n",
      "   macro avg       0.73      0.75      0.74    238487\n",
      "weighted avg       0.80      0.78      0.79    238487\n",
      "\n",
      "Accuracy (LightGBM): 0.78\n",
      "AUC (LightGBM): 0.83\n",
      "Log Loss (LightGBM): 0.48\n",
      "Matthews Correlation Coefficient (MCC): 0.48\n",
      "Balanced Accuracy (LightGBM): 0.75\n"
     ]
    }
   ],
   "source": [
    "\n",
    "# Chuyển đổi cột CRASH_TYPE thành nhị phân\n",
    "df['CRASH_TYPE'] = df['CRASH_TYPE'].apply(lambda x: 1 if x == 'INJURY AND / OR TOW DUE TO CRASH' else 0)\n",
    "\n",
    "# Mã hóa các cột phân loại thành số\n",
    "categorical_cols = ['POSTED_SPEED_LIMIT', 'TRAFFIC_CONTROL_DEVICE', 'DEVICE_CONDITION', 'WEATHER_CONDITION', \n",
    "                    'LIGHTING_CONDITION', 'FIRST_CRASH_TYPE', 'TRAFFICWAY_TYPE', 'ALIGNMENT', \n",
    "                    'ROADWAY_SURFACE_COND', 'ROAD_DEFECT', 'DAMAGE', 'PRIM_CONTRIBUTORY_CAUSE', \n",
    "                    'CRASH_HOUR', 'CRASH_DAY_OF_WEEK', 'CRASH_MONTH']\n",
    "\n",
    "label_encoder = LabelEncoder()\n",
    "for col in categorical_cols:\n",
    "    df[col] = label_encoder.fit_transform(df[col])\n",
    "\n",
    "# Tách X và y\n",
    "X = df.drop('CRASH_TYPE', axis=1)\n",
    "y = df['CRASH_TYPE']\n",
    "\n",
    "# Chia dữ liệu thành tập huấn luyện và kiểm tra\n",
    "X_train, X_test, y_train, y_test = train_test_split(X, y, test_size=0.3, random_state=42, stratify=y)\n",
    "\n",
    "# === Áp dụng SMOTE để cân bằng dữ liệu ===\n",
    "smote = SMOTE(random_state=42)\n",
    "X_train_resampled, y_train_resampled = smote.fit_resample(X_train, y_train)\n",
    "\n",
    "# === Thiết lập mô hình LightGBM ===\n",
    "param_grid = {\n",
    "    'n_estimators': [100, 200, 300],\n",
    "    'max_depth': [3, 5, 7],\n",
    "    'learning_rate': [0.01, 0.1, 0.2],\n",
    "    'subsample': [0.8, 1.0],\n",
    "    'colsample_bytree': [0.8, 1.0]\n",
    "}\n",
    "\n",
    "lgb_model = LGBMClassifier(random_state=42)\n",
    "\n",
    "grid_search = GridSearchCV(\n",
    "    estimator=lgb_model,\n",
    "    param_grid=param_grid,\n",
    "    scoring='roc_auc',\n",
    "    cv=3,\n",
    "    verbose=1,\n",
    "    n_jobs=-1\n",
    ")\n",
    "\n",
    "# Huấn luyện mô hình trên dữ liệu đã được SMOTE\n",
    "grid_search.fit(X_train_resampled, y_train_resampled)\n",
    "\n",
    "# Mô hình tốt nhất\n",
    "best_lgb_model = grid_search.best_estimator_\n",
    "print(\"\\nBest Parameters from GridSearchCV:\")\n",
    "print(grid_search.best_params_)\n",
    "\n",
    "# === Dự đoán và đánh giá ===\n",
    "y_pred_lgb = best_lgb_model.predict(X_test)\n",
    "y_prob_lgb = best_lgb_model.predict_proba(X_test)[:, 1]\n",
    "\n",
    "# Classification Report\n",
    "print(\"\\nClassification Report (LightGBM):\")\n",
    "print(classification_report(y_test, y_pred_lgb))\n",
    "\n",
    "# Accuracy\n",
    "accuracy = accuracy_score(y_test, y_pred_lgb)\n",
    "print(f\"Accuracy (LightGBM): {accuracy:.2f}\")\n",
    "\n",
    "# AUC Score\n",
    "auc_score = roc_auc_score(y_test, y_prob_lgb)\n",
    "print(f\"AUC (LightGBM): {auc_score:.2f}\")\n",
    "\n",
    "# Log Loss\n",
    "log_loss_value = log_loss(y_test, y_prob_lgb)\n",
    "print(f\"Log Loss (LightGBM): {log_loss_value:.2f}\")\n",
    "\n",
    "# Matthews Correlation Coefficient (MCC)\n",
    "mcc_value = matthews_corrcoef(y_test, y_pred_lgb)\n",
    "print(f\"Matthews Correlation Coefficient (MCC): {mcc_value:.2f}\")\n",
    "\n",
    "# Balanced Accuracy\n",
    "balanced_accuracy_value = balanced_accuracy_score(y_test, y_pred_lgb)\n",
    "print(f\"Balanced Accuracy (LightGBM): {balanced_accuracy_value:.2f}\")\n"
   ]
  }
 ],
 "metadata": {
  "kernelspec": {
   "display_name": "Python 3 (ipykernel)",
   "language": "python",
   "name": "python3"
  },
  "language_info": {
   "codemirror_mode": {
    "name": "ipython",
    "version": 3
   },
   "file_extension": ".py",
   "mimetype": "text/x-python",
   "name": "python",
   "nbconvert_exporter": "python",
   "pygments_lexer": "ipython3",
   "version": "3.12.3"
  }
 },
 "nbformat": 4,
 "nbformat_minor": 5
}
